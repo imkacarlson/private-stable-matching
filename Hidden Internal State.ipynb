{
 "cells": [
  {
   "cell_type": "markdown",
   "id": "14d421d5",
   "metadata": {},
   "source": [
    "Implmenting section 4 \"Hiding the Internal State of the Algorithm\" in:\n",
    "\n",
    "Golle P. (2006) A Private Stable Matching Algorithm. In: Di Crescenzo G., Rubin A. (eds) Financial Cryptography and Data Security. FC 2006. Lecture Notes in Computer Science, vol 4107. Springer, Berlin, Heidelberg. https://doi-org.proxygw.wrlc.org/10.1007/11889663_5"
   ]
  },
  {
   "cell_type": "markdown",
   "id": "093b61a6",
   "metadata": {},
   "source": [
    "Let $A_1...A_3$ denote 3 men and $B_1...B_3$ denote three women.\n",
    "\n",
    "Preferences:\n",
    "\n",
    "$A_1$: $a_1=(0,2,1)$\n",
    "\n",
    "$A_2$: $a_2=(1,2,0)$\n",
    "\n",
    "$A_3$: $a_3=(2,1,0)$\n",
    "\n",
    "---\n",
    "\n",
    "$B_1$: $b_1=(1,2,0)$\n",
    "\n",
    "$B_2$: $b_2=(0,2,1)$\n",
    "\n",
    "$B_3$: $b_3=(0,1,2)$"
   ]
  },
  {
   "cell_type": "code",
   "execution_count": 36,
   "id": "b983e8f4",
   "metadata": {},
   "outputs": [],
   "source": [
    "n = 3"
   ]
  },
  {
   "cell_type": "code",
   "execution_count": 77,
   "id": "1b26a497",
   "metadata": {},
   "outputs": [],
   "source": [
    "a_1 = [0, 2, 1]\n",
    "a_2 = [1, 2, 0]\n",
    "a_3 = [2, 1, 0] \n",
    "men_preferences = {\"a_1\" : a_1, \"a_2\" : a_2, \"a_3\" : a_3}\n",
    "\n",
    "b_1 = [1, 2, 0]\n",
    "b_2 = [0, 2, 1]\n",
    "b_3 = [0, 1, 2]\n",
    "women_preferences = {\"b_1\" : b_1, \"b_2\" : b_2, \"b_3\" : b_3}"
   ]
  },
  {
   "cell_type": "code",
   "execution_count": 87,
   "id": "3bc06205",
   "metadata": {},
   "outputs": [],
   "source": [
    "def hidden_internal_state(men_prefs, women_prefs):\n",
    "    # Adding an additional n \"fake\" men\n",
    "    for i in range(n):\n",
    "        fake_man = [0, 1, 2] # The \"fake\" men prefs are unimportant\n",
    "        men_prefs[\"a_{}\".format((i + 1) + n)] = fake_man\n",
    "        \n",
    "        # Augment women preferences\n",
    "        for woman in women_prefs:\n",
    "            women_prefs[woman].append(i + n)\n",
    "    \n",
    "    # Computing a stable match\n",
    "    e_k = [] # Set of engaged men\n",
    "    f_k = [] # Set of free men\n",
    "    \n",
    "    e_k = [man for man in men_preferences][n:] # Initially, all fake men are engaged\n",
    "    f_k = [man for man in men_preferences][:n] # Initially, all real men are free\n",
    "    \n",
    "    \n",
    "    \n",
    "    #for k in range(1, (n + 1)):\n",
    "    #    print(k)\n",
    "        \n",
    "    #print(e_k)\n",
    "    \n",
    "    #print(men_prefs)\n",
    "    #print(\"\")\n",
    "    #print(women_prefs)"
   ]
  },
  {
   "cell_type": "code",
   "execution_count": 88,
   "id": "976bf7bb",
   "metadata": {},
   "outputs": [
    {
     "name": "stdout",
     "output_type": "stream",
     "text": [
      "1\n",
      "2\n",
      "3\n",
      "['a_4', 'a_5', 'a_6']\n",
      "{'a_1': [0, 2, 1], 'a_2': [1, 2, 0], 'a_3': [2, 1, 0], 'a_4': [0, 1, 2], 'a_5': [0, 1, 2], 'a_6': [0, 1, 2]}\n",
      "\n",
      "{'b_1': [1, 2, 0, 3, 4, 5, 3, 4, 5, 3, 4, 5, 3, 4, 5, 3, 4, 5], 'b_2': [0, 2, 1, 3, 4, 5, 3, 4, 5, 3, 4, 5, 3, 4, 5, 3, 4, 5], 'b_3': [0, 1, 2, 3, 4, 5, 3, 4, 5, 3, 4, 5, 3, 4, 5, 3, 4, 5]}\n"
     ]
    }
   ],
   "source": [
    "hidden_internal_state(men_preferences, women_preferences)"
   ]
  }
 ],
 "metadata": {
  "kernelspec": {
   "display_name": "Python 3",
   "language": "python",
   "name": "python3"
  },
  "language_info": {
   "codemirror_mode": {
    "name": "ipython",
    "version": 3
   },
   "file_extension": ".py",
   "mimetype": "text/x-python",
   "name": "python",
   "nbconvert_exporter": "python",
   "pygments_lexer": "ipython3",
   "version": "3.9.4"
  }
 },
 "nbformat": 4,
 "nbformat_minor": 5
}
