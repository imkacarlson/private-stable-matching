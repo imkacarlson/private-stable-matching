{
 "cells": [
  {
   "cell_type": "markdown",
   "id": "14d421d5",
   "metadata": {},
   "source": [
    "Implmenting section 4 \"Hiding the Internal State of the Algorithm\" in:\n",
    "\n",
    "Golle P. (2006) A Private Stable Matching Algorithm. In: Di Crescenzo G., Rubin A. (eds) Financial Cryptography and Data Security. FC 2006. Lecture Notes in Computer Science, vol 4107. Springer, Berlin, Heidelberg. https://doi-org.proxygw.wrlc.org/10.1007/11889663_5"
   ]
  },
  {
   "cell_type": "markdown",
   "id": "5d4ba876",
   "metadata": {},
   "source": [
    "Let $A_1...A_3$ denote 3 men and $B_1...B_3$ denote three women.\n",
    "\n",
    "Preferences:\n",
    "\n",
    "$A_1$: $a_1=(0,2,1)$\n",
    "\n",
    "$A_2$: $a_2=(1,2,0)$\n",
    "\n",
    "$A_3$: $a_3=(2,1,0)$\n",
    "\n",
    "---\n",
    "\n",
    "$B_1$: $b_1=(1,2,0)$\n",
    "\n",
    "$B_2$: $b_2=(0,2,1)$\n",
    "\n",
    "$B_3$: $b_3=(0,1,2)$"
   ]
  },
  {
   "cell_type": "code",
   "execution_count": 9,
   "id": "34cc1a9d",
   "metadata": {},
   "outputs": [],
   "source": [
    "verbose = False"
   ]
  },
  {
   "cell_type": "code",
   "execution_count": 10,
   "id": "5825fa21",
   "metadata": {},
   "outputs": [],
   "source": [
    "import random\n",
    "import sys"
   ]
  },
  {
   "cell_type": "code",
   "execution_count": 11,
   "id": "77217080",
   "metadata": {},
   "outputs": [],
   "source": [
    "n = 3"
   ]
  },
  {
   "cell_type": "code",
   "execution_count": 12,
   "id": "c8be77af",
   "metadata": {},
   "outputs": [],
   "source": [
    "a_1 = [0, 2, 1]\n",
    "a_2 = [1, 2, 0]\n",
    "a_3 = [2, 1, 0] \n",
    "men_preferences = {\"a_1\" : a_1, \"a_2\" : a_2, \"a_3\" : a_3}\n",
    "\n",
    "b_1 = [1, 2, 0]\n",
    "b_2 = [0, 2, 1]\n",
    "b_3 = [0, 1, 2]\n",
    "women_preferences = {\"b_1\" : b_1, \"b_2\" : b_2, \"b_3\" : b_3}"
   ]
  },
  {
   "cell_type": "code",
   "execution_count": 13,
   "id": "e6cbdd9d",
   "metadata": {},
   "outputs": [],
   "source": [
    "def hidden_internal_state(men_prefs, women_prefs):\n",
    "    # Adding an additional n \"fake\" men\n",
    "    for i in range(n):\n",
    "        fake_man = [0, 1, 2] # The \"fake\" men prefs are unimportant\n",
    "        men_prefs[\"a_{}\".format((i + 1) + n)] = fake_man\n",
    "        \n",
    "        # Augment women preferences\n",
    "        for woman in women_prefs:\n",
    "            women_prefs[woman].append(i + n)\n",
    "    \n",
    "    # Computing a stable match\n",
    "    e_k = [] # Set of engaged men\n",
    "    f_k = [] # Set of free men\n",
    "    engagements = {} # Engagement tracker\n",
    "    \n",
    "    e_k = [man for man in men_preferences][n:] # Initially, all fake men are engaged\n",
    "    # We arbitrarily assign these fake men partners\n",
    "    i = 0\n",
    "    for fake_man in e_k:\n",
    "        engagements[fake_man] = list(women_preferences.keys())[i]\n",
    "        i = i + 1\n",
    "    \n",
    "    f_k = [man for man in men_preferences][:n] # Initially, all real men are free\n",
    "    \n",
    "    proposals_made = {} # Used to track proposals made by a man\n",
    "    \n",
    "    j = 0\n",
    "    \n",
    "    while f_k: # while f_k is not empty\n",
    "        randomly_selected_man = random.choice(f_k)\n",
    "        his_prefs = men_prefs[randomly_selected_man]\n",
    "        \n",
    "        his_prefs_sorted = his_prefs.copy()\n",
    "        his_prefs_sorted.sort()\n",
    "        his_first_choice = his_prefs.index(his_prefs_sorted[0]) + 1\n",
    "        \n",
    "        if his_prefs_sorted[0] == sys.maxsize * 2 + 1:\n",
    "            f_k.remove(randomly_selected_man)\n",
    "            \n",
    "            if verbose:\n",
    "                print(\"{} OVERCOOKED. Free men: {}\".format(randomly_selected_man, f_k))\n",
    "                print(\"\")\n",
    "                print(\"---\")\n",
    "                print(\"\")\n",
    "            \n",
    "            continue\n",
    "        \n",
    "        his_first_choice_name = \"b_{}\".format(his_first_choice)\n",
    "        \n",
    "        her_rank_of_him = women_prefs[his_first_choice_name][int(randomly_selected_man[-1:]) - 1]\n",
    "        # https://stackoverflow.com/a/13149770\n",
    "        her_current_partner = list(engagements.keys())[list(engagements.values()).index(his_first_choice_name)]\n",
    "        her_rank_of_current_partner = women_prefs[his_first_choice_name][int(her_current_partner[-1:]) - 1]\n",
    "        \n",
    "        if verbose:\n",
    "            print(\"Randomly selected man: \", randomly_selected_man)\n",
    "            print(\"His prefs: \", his_prefs)\n",
    "            print(\"His first choice: \", his_first_choice)\n",
    "            print(\"His first choice name: \", his_first_choice_name)\n",
    "            print(\"Her rank of him: \", her_rank_of_him)\n",
    "            print(\"Current engagements: \", engagements)\n",
    "            print(\"Her current partner: \", her_current_partner)\n",
    "            print(\"her prefs: \", women_prefs)\n",
    "            print(\"her rank of current partner: \", her_rank_of_current_partner)\n",
    "        \n",
    "        if her_rank_of_him < her_rank_of_current_partner:\n",
    "            engagements[randomly_selected_man] = his_first_choice_name\n",
    "            del engagements[her_current_partner]\n",
    "            e_k = list(engagements.keys())\n",
    "            f_k[f_k.index(randomly_selected_man)] = her_current_partner\n",
    "            his_prefs[his_first_choice - 1] = sys.maxsize * 2 + 1\n",
    "            \n",
    "            if verbose:\n",
    "                print(\"His prefs (post engagement): \", his_prefs)\n",
    "        else:\n",
    "            his_prefs[his_first_choice - 1] = sys.maxsize * 2 + 1\n",
    "            \n",
    "            if verbose:\n",
    "                print(\"His prefs (post (rejected) engagement): \", his_prefs)\n",
    "        \n",
    "        if verbose:\n",
    "            print(\"Current engagements: \", engagements)\n",
    "            print(\"Set of engaged men: \", e_k)\n",
    "            print(\"Set of free men: \", f_k)\n",
    "        \n",
    "            print(\"\")\n",
    "            print(\"---\")\n",
    "            print(\"\")\n",
    "        \n",
    "        j = j + 1\n",
    "        \n",
    "        if(j == 100):\n",
    "            break\n",
    "   \n",
    "    \n",
    "    print(\"Found match after {} rounds: {}\".format(j, engagements))"
   ]
  },
  {
   "cell_type": "code",
   "execution_count": 14,
   "id": "5f36140d",
   "metadata": {},
   "outputs": [
    {
     "name": "stdout",
     "output_type": "stream",
     "text": [
      "Found match after 13 rounds: {'a_1': 'b_1', 'a_2': 'b_3', 'a_3': 'b_2'}\n"
     ]
    }
   ],
   "source": [
    "hidden_internal_state(men_preferences, women_preferences)"
   ]
  }
 ],
 "metadata": {
  "kernelspec": {
   "display_name": "Python 3",
   "language": "python",
   "name": "python3"
  },
  "language_info": {
   "codemirror_mode": {
    "name": "ipython",
    "version": 3
   },
   "file_extension": ".py",
   "mimetype": "text/x-python",
   "name": "python",
   "nbconvert_exporter": "python",
   "pygments_lexer": "ipython3",
   "version": "3.9.4"
  }
 },
 "nbformat": 4,
 "nbformat_minor": 5
}
