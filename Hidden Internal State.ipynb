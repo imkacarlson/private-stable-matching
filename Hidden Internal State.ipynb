{
 "cells": [
  {
   "cell_type": "markdown",
   "id": "14d421d5",
   "metadata": {},
   "source": [
    "Implmenting section 4 \"Hiding the Internal State of the Algorithm\" in:\n",
    "\n",
    "Golle P. (2006) A Private Stable Matching Algorithm. In: Di Crescenzo G., Rubin A. (eds) Financial Cryptography and Data Security. FC 2006. Lecture Notes in Computer Science, vol 4107. Springer, Berlin, Heidelberg. https://doi-org.proxygw.wrlc.org/10.1007/11889663_5"
   ]
  },
  {
   "cell_type": "markdown",
   "id": "d0a40dd9",
   "metadata": {},
   "source": [
    "Let $A_1...A_3$ denote 3 men and $B_1...B_3$ denote three women.\n",
    "\n",
    "Preferences:\n",
    "\n",
    "$A_1$: $a_1=(0,2,1)$\n",
    "\n",
    "$A_2$: $a_2=(1,2,0)$\n",
    "\n",
    "$A_3$: $a_3=(2,1,0)$\n",
    "\n",
    "---\n",
    "\n",
    "$B_1$: $b_1=(1,2,0)$\n",
    "\n",
    "$B_2$: $b_2=(0,2,1)$\n",
    "\n",
    "$B_3$: $b_3=(0,1,2)$"
   ]
  },
  {
   "cell_type": "code",
   "execution_count": 32,
   "id": "e127204d",
   "metadata": {},
   "outputs": [],
   "source": [
    "a_1 = [0, 2, 1]\n",
    "a_2 = [1, 2, 0]\n",
    "a_3 = [2, 1, 0]\n",
    "men_preferences = [a_1, a_2, a_3]\n",
    "\n",
    "b_1 = [1, 2, 0]\n",
    "b_2 = [0, 2, 1]\n",
    "b_3 = [0, 1, 2]\n",
    "women_preferences = [b_1, b_2, b_3]"
   ]
  },
  {
   "cell_type": "code",
   "execution_count": 33,
   "id": "8ec488d9",
   "metadata": {},
   "outputs": [],
   "source": [
    "def hidden_internal_state(men_prefs, women_prefs):\n",
    "    # Adding an additional n \"fake\" men\n",
    "    for i in range(len(men_prefs)):\n",
    "        fake_man = [0, 1, 2] # The \"fake\" men prefs are unimportant\n",
    "        men_prefs.append(fake_man)\n",
    "        \n",
    "        # Augment women preferences\n",
    "        for women_preference in women_prefs:\n",
    "            women_preference.append(i + 3)\n",
    "    \n",
    "    # Computing a stable match\n",
    "    e_k = [] # Set of engaged men\n",
    "    \n",
    "        \n",
    "    print(men_prefs)\n",
    "    print(\"\")\n",
    "    print(women_prefs)"
   ]
  },
  {
   "cell_type": "code",
   "execution_count": 34,
   "id": "7ada52bc",
   "metadata": {},
   "outputs": [
    {
     "name": "stdout",
     "output_type": "stream",
     "text": [
      "[[0, 2, 1], [1, 2, 0], [2, 1, 0], [0, 1, 2], [0, 1, 2], [0, 1, 2]]\n",
      "\n",
      "[[1, 2, 0, 3, 4, 5], [0, 2, 1, 3, 4, 5], [0, 1, 2, 3, 4, 5]]\n"
     ]
    }
   ],
   "source": [
    "hidden_internal_state(men_preferences, women_preferences)"
   ]
  }
 ],
 "metadata": {
  "kernelspec": {
   "display_name": "Python 3",
   "language": "python",
   "name": "python3"
  },
  "language_info": {
   "codemirror_mode": {
    "name": "ipython",
    "version": 3
   },
   "file_extension": ".py",
   "mimetype": "text/x-python",
   "name": "python",
   "nbconvert_exporter": "python",
   "pygments_lexer": "ipython3",
   "version": "3.9.4"
  }
 },
 "nbformat": 4,
 "nbformat_minor": 5
}
